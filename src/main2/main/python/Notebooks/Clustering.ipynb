{
 "cells": [
  {
   "cell_type": "code",
   "execution_count": 1,
   "metadata": {},
   "outputs": [],
   "source": [
    "import numpy as np\n",
    "import pandas as pd"
   ]
  },
  {
   "cell_type": "code",
   "execution_count": 2,
   "metadata": {},
   "outputs": [],
   "source": [
    "df = pd.read_csv('C:\\\\Ashish\\\\Clustering-Bin-Packing\\\\src\\\\main\\\\resources\\\\loads.csv', parse_dates=[\"collection_date\",\"delivery_date\"])"
   ]
  },
  {
   "cell_type": "code",
   "execution_count": 3,
   "metadata": {},
   "outputs": [
    {
     "data": {
      "text/html": [
       "<div>\n",
       "<style scoped>\n",
       "    .dataframe tbody tr th:only-of-type {\n",
       "        vertical-align: middle;\n",
       "    }\n",
       "\n",
       "    .dataframe tbody tr th {\n",
       "        vertical-align: top;\n",
       "    }\n",
       "\n",
       "    .dataframe thead th {\n",
       "        text-align: right;\n",
       "    }\n",
       "</style>\n",
       "<table border=\"1\" class=\"dataframe\">\n",
       "  <thead>\n",
       "    <tr style=\"text-align: right;\">\n",
       "      <th></th>\n",
       "      <th>collection_longitude</th>\n",
       "      <th>collection_latitude</th>\n",
       "      <th>collection_date</th>\n",
       "      <th>delivery_longitude</th>\n",
       "      <th>delivery_latitude</th>\n",
       "      <th>delivery_date</th>\n",
       "      <th>size</th>\n",
       "      <th>id</th>\n",
       "    </tr>\n",
       "  </thead>\n",
       "  <tbody>\n",
       "    <tr>\n",
       "      <th>0</th>\n",
       "      <td>-2.214219</td>\n",
       "      <td>57.239806</td>\n",
       "      <td>2016-10-06 11:00:00</td>\n",
       "      <td>-2.080793</td>\n",
       "      <td>57.140803</td>\n",
       "      <td>2016-10-06 13:00:00</td>\n",
       "      <td>1.000000</td>\n",
       "      <td>1006262</td>\n",
       "    </tr>\n",
       "    <tr>\n",
       "      <th>1</th>\n",
       "      <td>-2.081943</td>\n",
       "      <td>57.127896</td>\n",
       "      <td>2017-01-15 08:30:00</td>\n",
       "      <td>-2.081300</td>\n",
       "      <td>57.143050</td>\n",
       "      <td>2017-01-15 14:00:00</td>\n",
       "      <td>0.166667</td>\n",
       "      <td>1019653</td>\n",
       "    </tr>\n",
       "    <tr>\n",
       "      <th>2</th>\n",
       "      <td>-2.081943</td>\n",
       "      <td>57.127896</td>\n",
       "      <td>2017-01-15 08:30:00</td>\n",
       "      <td>-2.081300</td>\n",
       "      <td>57.143050</td>\n",
       "      <td>2017-01-15 14:00:00</td>\n",
       "      <td>0.166667</td>\n",
       "      <td>1019653</td>\n",
       "    </tr>\n",
       "    <tr>\n",
       "      <th>3</th>\n",
       "      <td>-2.081943</td>\n",
       "      <td>57.127896</td>\n",
       "      <td>2017-01-15 08:30:00</td>\n",
       "      <td>-2.081300</td>\n",
       "      <td>57.143050</td>\n",
       "      <td>2017-01-15 14:00:00</td>\n",
       "      <td>0.166667</td>\n",
       "      <td>1019653</td>\n",
       "    </tr>\n",
       "    <tr>\n",
       "      <th>4</th>\n",
       "      <td>-2.081943</td>\n",
       "      <td>57.127896</td>\n",
       "      <td>2017-01-15 08:30:00</td>\n",
       "      <td>-2.081300</td>\n",
       "      <td>57.143050</td>\n",
       "      <td>2017-01-15 14:00:00</td>\n",
       "      <td>0.166667</td>\n",
       "      <td>1019653</td>\n",
       "    </tr>\n",
       "  </tbody>\n",
       "</table>\n",
       "</div>"
      ],
      "text/plain": [
       "   collection_longitude  collection_latitude     collection_date  \\\n",
       "0             -2.214219            57.239806 2016-10-06 11:00:00   \n",
       "1             -2.081943            57.127896 2017-01-15 08:30:00   \n",
       "2             -2.081943            57.127896 2017-01-15 08:30:00   \n",
       "3             -2.081943            57.127896 2017-01-15 08:30:00   \n",
       "4             -2.081943            57.127896 2017-01-15 08:30:00   \n",
       "\n",
       "   delivery_longitude  delivery_latitude       delivery_date      size  \\\n",
       "0           -2.080793          57.140803 2016-10-06 13:00:00  1.000000   \n",
       "1           -2.081300          57.143050 2017-01-15 14:00:00  0.166667   \n",
       "2           -2.081300          57.143050 2017-01-15 14:00:00  0.166667   \n",
       "3           -2.081300          57.143050 2017-01-15 14:00:00  0.166667   \n",
       "4           -2.081300          57.143050 2017-01-15 14:00:00  0.166667   \n",
       "\n",
       "        id  \n",
       "0  1006262  \n",
       "1  1019653  \n",
       "2  1019653  \n",
       "3  1019653  \n",
       "4  1019653  "
      ]
     },
     "execution_count": 3,
     "metadata": {},
     "output_type": "execute_result"
    }
   ],
   "source": [
    "df.head()"
   ]
  },
  {
   "cell_type": "code",
   "execution_count": 23,
   "metadata": {},
   "outputs": [],
   "source": [
    "df = df[df.collection_longitude < -1.5]\n",
    "df = df[df.collection_longitude > -3.5]\n",
    "df = df[df.collection_latitude < 60]\n",
    "df = df[df.collection_latitude > 55]\n",
    "Xc = np.array(list(zip(df['collection_longitude'], df['collection_latitude'])))"
   ]
  },
  {
   "cell_type": "code",
   "execution_count": 24,
   "metadata": {},
   "outputs": [
    {
     "data": {
      "text/plain": [
       "array([[-2.2142191, 57.2398058],\n",
       "       [-2.0819435, 57.1278956],\n",
       "       [-2.0819435, 57.1278956],\n",
       "       ...,\n",
       "       [-2.2142191, 57.2398058],\n",
       "       [-2.2142191, 57.2398058],\n",
       "       [-2.2142191, 57.2398058]])"
      ]
     },
     "execution_count": 24,
     "metadata": {},
     "output_type": "execute_result"
    }
   ],
   "source": [
    "Xc"
   ]
  },
  {
   "cell_type": "code",
   "execution_count": 25,
   "metadata": {},
   "outputs": [
    {
     "data": {
      "text/plain": [
       "array([[-2.08079338, 57.14080343],\n",
       "       [-2.0812996 , 57.1430504 ],\n",
       "       [-2.0812996 , 57.1430504 ],\n",
       "       ...,\n",
       "       [-2.08299279, 57.14157764],\n",
       "       [-2.08299279, 57.14157764],\n",
       "       [-2.08299279, 57.14157764]])"
      ]
     },
     "execution_count": 25,
     "metadata": {},
     "output_type": "execute_result"
    }
   ],
   "source": [
    "Xd = np.array(list(zip(df['delivery_longitude'], df['delivery_latitude'])))\n",
    "Xd"
   ]
  },
  {
   "cell_type": "code",
   "execution_count": 26,
   "metadata": {},
   "outputs": [],
   "source": [
    "from sklearn.cluster import KMeans\n",
    "def k_means(X, n):\n",
    "    # Number of clusters\n",
    "    kmeans = KMeans(n_clusters=n)\n",
    "    # Fitting the input data\n",
    "    kmeans = kmeans.fit(X)\n",
    "    # Getting the cluster labels\n",
    "    labels = kmeans.predict(X)\n",
    "    # Centroid values\n",
    "    C = kmeans.cluster_centers_\n",
    "    return C, kmeans"
   ]
  },
  {
   "cell_type": "code",
   "execution_count": 59,
   "metadata": {},
   "outputs": [
    {
     "name": "stdout",
     "output_type": "stream",
     "text": [
      "[[-2.08408465 57.13560298]\n",
      " [-2.58860425 56.75699201]\n",
      " [-1.81486956 57.5098718 ]\n",
      " [-2.15131893 57.06770324]\n",
      " [-2.23690576 57.19893667]]\n"
     ]
    },
    {
     "data": {
      "text/plain": [
       "{0: array([[-2.0819435, 57.1278956],\n",
       "        [-2.0819435, 57.1278956],\n",
       "        [-2.0819435, 57.1278956],\n",
       "        ...,\n",
       "        [-2.0813862, 57.1244527],\n",
       "        [-2.0813862, 57.1244527],\n",
       "        [-2.0690483, 57.121768 ]]), 1: array([[-2.655163  , 56.806022  ],\n",
       "        [-2.66967773, 56.72259433],\n",
       "        [-2.66967773, 56.72259433],\n",
       "        ...,\n",
       "        [-2.655163  , 56.806022  ],\n",
       "        [-2.66967773, 56.72259433],\n",
       "        [-2.66967773, 56.72259433]]), 2: array([[-1.7933509 , 57.488538  ],\n",
       "        [-1.8095606 , 57.492408  ],\n",
       "        [-1.8135355 , 57.4849584 ],\n",
       "        ...,\n",
       "        [-1.8857425 , 57.5153244 ],\n",
       "        [-1.8856144 , 57.50969148],\n",
       "        [-1.8150047 , 57.4912753 ]]), 3: array([[-2.2478849, 57.049479 ],\n",
       "        [-2.1534924, 57.0710743],\n",
       "        [-2.1534924, 57.0710743],\n",
       "        ...,\n",
       "        [-2.1621119, 57.0693016],\n",
       "        [-2.1621119, 57.0693016],\n",
       "        [-2.1568687, 57.0695778]]), 4: array([[-2.2142191, 57.2398058],\n",
       "        [-2.417496 , 57.1141564],\n",
       "        [-2.417496 , 57.1141564],\n",
       "        ...,\n",
       "        [-2.2142191, 57.2398058],\n",
       "        [-2.2142191, 57.2398058],\n",
       "        [-2.2142191, 57.2398058]])}"
      ]
     },
     "execution_count": 59,
     "metadata": {},
     "output_type": "execute_result"
    }
   ],
   "source": [
    "Cc, kmc = k_means(Xc, 5)\n",
    "dc = {i: Xc[np.where(kmc.labels_ == i)] for i in range(kmc.n_clusters)}\n",
    "print(Cc)\n",
    "dc"
   ]
  },
  {
   "cell_type": "code",
   "execution_count": 61,
   "metadata": {},
   "outputs": [
    {
     "name": "stdout",
     "output_type": "stream",
     "text": [
      "[[-2.07702437 57.14056023]\n",
      " [-2.08290377 57.14180178]\n",
      " [-2.09031679 57.14442936]]\n"
     ]
    },
    {
     "data": {
      "text/plain": [
       "{0: array([[-2.072161  , 57.1427326 ],\n",
       "        [-2.07722068, 57.14501193],\n",
       "        [-2.07722068, 57.14501193],\n",
       "        ...,\n",
       "        [-2.07722068, 57.14501193],\n",
       "        [-2.07722068, 57.14501193],\n",
       "        [-2.0763731 , 57.14520401]]), 1: array([[-2.08079338, 57.14080343],\n",
       "        [-2.0812996 , 57.1430504 ],\n",
       "        [-2.0812996 , 57.1430504 ],\n",
       "        ...,\n",
       "        [-2.08299279, 57.14157764],\n",
       "        [-2.08299279, 57.14157764],\n",
       "        [-2.08299279, 57.14157764]]), 2: array([[-2.093348 , 57.1463256],\n",
       "        [-2.093348 , 57.1463256],\n",
       "        [-2.093348 , 57.1463256],\n",
       "        ...,\n",
       "        [-2.093348 , 57.1463256],\n",
       "        [-2.093348 , 57.1463256],\n",
       "        [-2.093348 , 57.1463256]])}"
      ]
     },
     "execution_count": 61,
     "metadata": {},
     "output_type": "execute_result"
    }
   ],
   "source": [
    "Cd, kmd = k_means(Xd, 3)\n",
    "print(Cd)\n",
    "dd = {i: Xd[np.where(kmd.labels_ == i)] for i in range(kmd.n_clusters)}\n",
    "dd"
   ]
  },
  {
   "cell_type": "code",
   "execution_count": 62,
   "metadata": {},
   "outputs": [
    {
     "name": "stdout",
     "output_type": "stream",
     "text": [
      "<class 'numpy.ndarray'>\n",
      "[[-2.07702437 57.14056023]\n",
      " [-2.08290377 57.14180178]\n",
      " [-2.09031679 57.14442936]]\n",
      "[-2.07702437 -2.08290377 -2.09031679]\n",
      "[57.14056023 57.14180178 57.14442936]\n",
      "<class 'numpy.ndarray'>\n",
      "<class 'numpy.ndarray'>\n"
     ]
    }
   ],
   "source": [
    "print(type(Cd))\n",
    "Cdx = Cd[:, 0]\n",
    "Cdy = Cd[:, 1]\n",
    "print(Cd)\n",
    "print(Cdx)\n",
    "print(Cdy)\n",
    "print(type(Cdx))\n",
    "print(type(Cdy))"
   ]
  },
  {
   "cell_type": "code",
   "execution_count": 63,
   "metadata": {},
   "outputs": [
    {
     "name": "stdout",
     "output_type": "stream",
     "text": [
      "<class 'numpy.ndarray'>\n",
      "[[-2.08408465 57.13560298]\n",
      " [-2.58860425 56.75699201]\n",
      " [-1.81486956 57.5098718 ]\n",
      " [-2.15131893 57.06770324]\n",
      " [-2.23690576 57.19893667]]\n",
      "[-2.08408465 -2.58860425 -1.81486956 -2.15131893 -2.23690576]\n",
      "[57.13560298 56.75699201 57.5098718  57.06770324 57.19893667]\n",
      "<class 'numpy.ndarray'>\n",
      "<class 'numpy.ndarray'>\n"
     ]
    }
   ],
   "source": [
    "print(type(Cc))\n",
    "Ccx = Cc[:, 0]\n",
    "Ccy = Cc[:, 1]\n",
    "print(Cc)\n",
    "print(Ccx)\n",
    "print(Ccy)\n",
    "print(type(Ccx))\n",
    "print(type(Ccy))"
   ]
  },
  {
   "cell_type": "code",
   "execution_count": 64,
   "metadata": {},
   "outputs": [],
   "source": [
    "import seaborn as sns"
   ]
  },
  {
   "cell_type": "code",
   "execution_count": 82,
   "metadata": {},
   "outputs": [
    {
     "name": "stdout",
     "output_type": "stream",
     "text": [
      "<class 'numpy.ndarray'>\n"
     ]
    }
   ],
   "source": [
    "kc = dc.keys()\n",
    "vc = list(dc.values())\n",
    "print(type(vc[0]))\n",
    "# for i in values:\n",
    "#     print(type(i))\n",
    "cc1 = vc[0]\n",
    "cc2 = vc[1]\n",
    "cc3 = vc[2]\n",
    "cc4 = vc[3]\n",
    "cc5 = vc[4]"
   ]
  },
  {
   "cell_type": "code",
   "execution_count": 83,
   "metadata": {},
   "outputs": [
    {
     "data": {
      "text/plain": [
       "<matplotlib.collections.PathCollection at 0x2629ccd7710>"
      ]
     },
     "execution_count": 83,
     "metadata": {},
     "output_type": "execute_result"
    },
    {
     "data": {
      "image/png": "[encoded data removed]",
      "text/plain": [
       "<matplotlib.figure.Figure at 0x262987d6c18>"
      ]
     },
     "metadata": {},
     "output_type": "display_data"
    }
   ],
   "source": [
    "df = df[df.collection_longitude < -1.5]\n",
    "df = df[df.collection_longitude > -3.5]\n",
    "df = df[df.collection_latitude < 60]\n",
    "df = df[df.collection_latitude > 55]\n",
    "plt1 = sns.jointplot(x='collection_longitude', y='collection_latitude', data=df)\n",
    "#plt1.ax_joint.scatter(Ccx, Ccy, color = 'red')\n",
    "\n",
    "plt1.ax_joint.scatter(cc1[:, 0], cc1[:, 1], color = 'black')\n",
    "plt1.ax_joint.scatter(cc2[:, 0], cc2[:, 1], color = 'green')\n",
    "plt1.ax_joint.scatter(cc3[:, 0], cc3[:, 1], color = 'blue')\n",
    "plt1.ax_joint.scatter(cc4[:, 0], cc4[:, 1], color = 'red')\n",
    "plt1.ax_joint.scatter(cc5[:, 0], cc5[:, 1], color = 'yellow')\n",
    "\n",
    "#print(len(df))"
   ]
  },
  {
   "cell_type": "code",
   "execution_count": 85,
   "metadata": {},
   "outputs": [
    {
     "name": "stdout",
     "output_type": "stream",
     "text": [
      "<class 'list'>\n"
     ]
    }
   ],
   "source": [
    "kd = dd.keys()\n",
    "vd = list(dd.values())\n",
    "print(type(values))\n",
    "# for i in values:\n",
    "#     print(type(i))\n",
    "cd1 = vd[0]\n",
    "cd2 = vd[1]\n",
    "cd3 = vd[2]"
   ]
  },
  {
   "cell_type": "code",
   "execution_count": 87,
   "metadata": {},
   "outputs": [
    {
     "name": "stdout",
     "output_type": "stream",
     "text": [
      "81672\n"
     ]
    },
    {
     "data": {
      "text/plain": [
       "<matplotlib.collections.PathCollection at 0x26292f19198>"
      ]
     },
     "execution_count": 87,
     "metadata": {},
     "output_type": "execute_result"
    },
    {
     "data": {
      "image/png": "[encoded data removed]",
      "text/plain": [
       "<matplotlib.figure.Figure at 0x2629e0e1240>"
      ]
     },
     "metadata": {},
     "output_type": "display_data"
    }
   ],
   "source": [
    "df = df[df.delivery_longitude > -2.2]\n",
    "df = df[df.delivery_longitude < -2.0]\n",
    "df = df[df.delivery_latitude > 57.1]\n",
    "df = df[df.delivery_latitude < 57.2]\n",
    "print(len(df))\n",
    "plt2  = sns.jointplot(x='delivery_longitude', y='delivery_latitude', data=df)\n",
    "plt2.ax_joint.scatter(cd1[:, 0], cd1[:, 1], color = 'black')\n",
    "plt2.ax_joint.scatter(cd2[:, 0], cd2[:, 1], color = 'green')\n",
    "plt2.ax_joint.scatter(cd3[:, 0], cd3[:, 1], color = 'red')"
   ]
  },
  {
   "cell_type": "code",
   "execution_count": 35,
   "metadata": {},
   "outputs": [
    {
     "name": "stdout",
     "output_type": "stream",
     "text": [
      "<class 'numpy.ndarray'>\n",
      "[[-2.23690576 57.19893667]\n",
      " [-1.81486956 57.5098718 ]\n",
      " [-2.58860425 56.75699201]\n",
      " [-2.15131893 57.06770324]\n",
      " [-2.08408465 57.13560298]]\n",
      "[-2.23690576 -1.81486956 -2.58860425 -2.15131893 -2.08408465]\n",
      "[57.19893667 57.5098718  56.75699201 57.06770324 57.13560298]\n",
      "<class 'numpy.ndarray'>\n",
      "<class 'numpy.ndarray'>\n"
     ]
    }
   ],
   "source": [
    "print(type(Cc))\n",
    "Ccx = Cc[:, 0]\n",
    "Ccy = Cc[:, 1]\n",
    "print(Cc)\n",
    "print(Ccx)\n",
    "print(Ccy)\n",
    "print(type(Ccx))\n",
    "print(type(Ccy))"
   ]
  },
  {
   "cell_type": "code",
   "execution_count": 43,
   "metadata": {},
   "outputs": [
    {
     "data": {
      "text/plain": [
       "<seaborn.axisgrid.FacetGrid at 0x2629b5c4e48>"
      ]
     },
     "execution_count": 43,
     "metadata": {},
     "output_type": "execute_result"
    }
   ],
   "source": [
    "plt1"
   ]
  },
  {
   "cell_type": "code",
   "execution_count": null,
   "metadata": {},
   "outputs": [],
   "source": []
  }
 ],
 "metadata": {
  "kernelspec": {
   "display_name": "Python 3",
   "language": "python",
   "name": "python3"
  },
  "language_info": {
   "codemirror_mode": {
    "name": "ipython",
    "version": 3
   },
   "file_extension": ".py",
   "mimetype": "text/x-python",
   "name": "python",
   "nbconvert_exporter": "python",
   "pygments_lexer": "ipython3",
   "version": "3.6.4"
  }
 },
 "nbformat": 4,
 "nbformat_minor": 2
}
