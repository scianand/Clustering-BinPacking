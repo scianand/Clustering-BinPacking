{
 "cells": [
  {
   "cell_type": "code",
   "execution_count": 2,
   "metadata": {},
   "outputs": [],
   "source": [
    "import numpy as np\n",
    "import pandas as pd"
   ]
  },
  {
   "cell_type": "code",
   "execution_count": 3,
   "metadata": {},
   "outputs": [],
   "source": [
    "df = pd.read_csv('C:\\\\Ashish\\\\Clustering-Bin-Packing\\\\src\\\\main\\\\resources\\\\outbound.csv')\n",
    "df_useful = df.drop(['job_id', 'list_of_vehicle_type', 'nb_of_vehicle', 'nb_of_items_on_job', 'no_of_Artics', 'no_of_vehicles_notArtic', 'abilities'], axis=1)"
   ]
  },
  {
   "cell_type": "code",
   "execution_count": 4,
   "metadata": {},
   "outputs": [],
   "source": [
    "df_useful.to_csv('C:/Ashish/Clustering-Bin-Packing/src/main/resources/outbound_reduced.csv')"
   ]
  },
  {
   "cell_type": "code",
   "execution_count": 5,
   "metadata": {
    "scrolled": false
   },
   "outputs": [
    {
     "name": "stdout",
     "output_type": "stream",
     "text": [
      "16794\n",
      "17686\n",
      "-892\n"
     ]
    }
   ],
   "source": [
    "df_final = df_useful.dropna()\n",
    "\n",
    "print(len(df_final))\n",
    "print(len(df_useful))\n",
    "print(len(df_final) - len(df_useful))"
   ]
  },
  {
   "cell_type": "code",
   "execution_count": 6,
   "metadata": {},
   "outputs": [],
   "source": [
    "df_final.to_csv('C:/Ashish/Clustering-Bin-Packing/src/main/resources/outbound_final.csv')"
   ]
  },
  {
   "cell_type": "code",
   "execution_count": 7,
   "metadata": {
    "scrolled": true
   },
   "outputs": [
    {
     "name": "stdout",
     "output_type": "stream",
     "text": [
      "16794\n",
      "16794\n",
      "<class 'str'>\n",
      "<class 'str'>\n",
      "16794\n",
      "16794\n",
      "<class 'float'>\n",
      "<class 'float'>\n",
      "-2.087892399999987\n",
      "57.12535159999999\n"
     ]
    },
    {
     "data": {
      "text/plain": [
       "['-2.087892399999987',\n",
       " '-2.087892399999987',\n",
       " '-2.0934305000000677',\n",
       " '-2.0934305000000677',\n",
       " '-2.0934305000000677']"
      ]
     },
     "execution_count": 7,
     "metadata": {},
     "output_type": "execute_result"
    }
   ],
   "source": [
    "data_x = []\n",
    "data_y = []\n",
    "for i in df_final['collection_geoloc']:\n",
    "    data_temp = i.strip().split(',')\n",
    "    #print(data_temp)\n",
    "    #data_x.append(float(map(float, data_temp[0])))\n",
    "    #data_y.append(float(map(float, data_temp[1])))\n",
    "    data_x.append(data_temp[0])\n",
    "    data_y.append(data_temp[1])\n",
    "\n",
    "print(len(data_x))\n",
    "print(len(data_y))\n",
    "print(type(data_x[0]))\n",
    "print(type(data_y[0]))\n",
    "data_x_float = [float(i) for i in data_x]\n",
    "data_y_float = [float(i) for i in data_y]\n",
    "print(len(data_x_float))\n",
    "print(len(data_y_float))\n",
    "print(type(data_x_float[0]))\n",
    "print(type(data_y_float[0]))\n",
    "print(data_x_float[0])\n",
    "print(data_y_float[0])\n",
    "data_x[:5]"
   ]
  },
  {
   "cell_type": "code",
   "execution_count": 8,
   "metadata": {},
   "outputs": [],
   "source": [
    "#print(data_x_float)\n",
    "#print(data_y_float)"
   ]
  },
  {
   "cell_type": "code",
   "execution_count": 9,
   "metadata": {},
   "outputs": [],
   "source": [
    "x_array = np.asarray(data_x_float)\n",
    "y_array = np.asarray(data_y_float)"
   ]
  },
  {
   "cell_type": "code",
   "execution_count": 10,
   "metadata": {},
   "outputs": [
    {
     "name": "stdout",
     "output_type": "stream",
     "text": [
      "<class 'numpy.ndarray'>\n",
      "<class 'numpy.ndarray'>\n"
     ]
    }
   ],
   "source": [
    "print(type(x_array))\n",
    "print(type(y_array))"
   ]
  },
  {
   "cell_type": "code",
   "execution_count": 11,
   "metadata": {},
   "outputs": [],
   "source": [
    "X = np.array(list(zip(x_array, y_array)))"
   ]
  },
  {
   "cell_type": "code",
   "execution_count": 12,
   "metadata": {},
   "outputs": [
    {
     "data": {
      "text/plain": [
       "array([[-2.0878924 , 57.1253516 ],\n",
       "       [-2.0878924 , 57.1253516 ],\n",
       "       [-2.0934305 , 57.1898548 ],\n",
       "       ...,\n",
       "       [-2.09293524, 57.19762137],\n",
       "       [-2.09293524, 57.19762137],\n",
       "       [-2.1534924 , 57.0710743 ]])"
      ]
     },
     "execution_count": 12,
     "metadata": {},
     "output_type": "execute_result"
    }
   ],
   "source": [
    "X"
   ]
  },
  {
   "cell_type": "code",
   "execution_count": 13,
   "metadata": {},
   "outputs": [],
   "source": [
    "from sklearn.cluster import KMeans\n",
    "#def k_means(X1, n):\n",
    "# Number of clusters\n",
    "kmeans = KMeans(n_clusters=2)\n",
    "# Fitting the input data\n",
    "kmeans = kmeans.fit(X)\n",
    "# Getting the cluster labels\n",
    "labels = kmeans.predict(X)\n",
    "# Centroid values\n",
    "C = kmeans.cluster_centers_\n",
    "    #return C"
   ]
  },
  {
   "cell_type": "code",
   "execution_count": 14,
   "metadata": {},
   "outputs": [
    {
     "name": "stdout",
     "output_type": "stream",
     "text": [
      "[[ -2.14027602  57.1593024 ]\n",
      " [-79.6677027   42.7837677 ]]\n"
     ]
    }
   ],
   "source": [
    "#c1, kmeans = k_means(X, 2)\n",
    "print(C)"
   ]
  },
  {
   "cell_type": "code",
   "execution_count": 16,
   "metadata": {},
   "outputs": [
    {
     "data": {
      "text/plain": [
       "<matplotlib.collections.PathCollection at 0x1ebf523d390>"
      ]
     },
     "execution_count": 16,
     "metadata": {},
     "output_type": "execute_result"
    },
    {
     "data": {
      "image/png": "[encoded data removed]",
      "text/plain": [
       "<matplotlib.figure.Figure at 0x1ebf1ea55c0>"
      ]
     },
     "metadata": {},
     "output_type": "display_data"
    }
   ],
   "source": [
    "import matplotlib.pyplot as plt\n",
    "plt.scatter(x_array, y_array, c='black')"
   ]
  },
  {
   "cell_type": "code",
   "execution_count": 17,
   "metadata": {},
   "outputs": [
    {
     "name": "stdout",
     "output_type": "stream",
     "text": [
      "<class 'numpy.ndarray'>\n",
      "[-2.14027602 57.1593024 ]\n",
      "[-79.6677027  42.7837677]\n"
     ]
    }
   ],
   "source": [
    "cent = np.asarray(C)\n",
    "print(type(cent))\n",
    "print(cent[0, :])\n",
    "print(cent[1, :])\n",
    "\n",
    "C_x = cent[:, 0]\n",
    "C_y = cent[:, 1]"
   ]
  },
  {
   "cell_type": "code",
   "execution_count": 18,
   "metadata": {},
   "outputs": [
    {
     "data": {
      "text/plain": [
       "<matplotlib.collections.PathCollection at 0x1ebf52bb9b0>"
      ]
     },
     "execution_count": 18,
     "metadata": {},
     "output_type": "execute_result"
    },
    {
     "data": {
      "image/png": "[encoded data removed]",
      "text/plain": [
       "<matplotlib.figure.Figure at 0x1ebf5212be0>"
      ]
     },
     "metadata": {},
     "output_type": "display_data"
    }
   ],
   "source": [
    "fig = plt.figure(figsize=(15, 15))\n",
    "plt.scatter(x_array, y_array, c='black')\n",
    "plt.scatter(C_x, C_y, marker='*', s=200, c='g')"
   ]
  },
  {
   "cell_type": "code",
   "execution_count": 19,
   "metadata": {},
   "outputs": [],
   "source": [
    "d = {i: np.where(kmeans.labels_ == i)[0] for i in range(kmeans.n_clusters)}\n",
    "d1 = {i: X[np.where(kmeans.labels_ == i)] for i in range(kmeans.n_clusters)}"
   ]
  },
  {
   "cell_type": "code",
   "execution_count": 20,
   "metadata": {},
   "outputs": [
    {
     "name": "stdout",
     "output_type": "stream",
     "text": [
      "{0: array([    0,     1,     2, ..., 16791, 16792, 16793], dtype=int64), 1: array([13475, 14610], dtype=int64)}\n"
     ]
    },
    {
     "data": {
      "text/plain": [
       "{0: array([[-2.0878924 , 57.1253516 ],\n",
       "        [-2.0878924 , 57.1253516 ],\n",
       "        [-2.0934305 , 57.1898548 ],\n",
       "        ...,\n",
       "        [-2.09293524, 57.19762137],\n",
       "        [-2.09293524, 57.19762137],\n",
       "        [-2.1534924 , 57.0710743 ]]), 1: array([[-83.1396436,  42.5528914],\n",
       "        [-76.1957618,  43.014644 ]])}"
      ]
     },
     "execution_count": 20,
     "metadata": {},
     "output_type": "execute_result"
    }
   ],
   "source": [
    "print(d)\n",
    "d1"
   ]
  },
  {
   "cell_type": "code",
   "execution_count": 21,
   "metadata": {},
   "outputs": [
    {
     "name": "stdout",
     "output_type": "stream",
     "text": [
      "{0: array([    0,     1,     2, ..., 16791, 16792, 16793], dtype=int64), 1: array([13475, 14610], dtype=int64)}\n",
      "[-2.0878924  -2.0878924  -2.0934305  ... -2.09293524 -2.09293524\n",
      " -2.1534924 ]\n",
      "[57.1253516  57.1253516  57.1898548  ... 57.19762137 57.19762137\n",
      " 57.0710743 ]\n"
     ]
    }
   ],
   "source": [
    "print(d)\n",
    "print(x_array)\n",
    "print(y_array)"
   ]
  },
  {
   "cell_type": "code",
   "execution_count": 22,
   "metadata": {},
   "outputs": [
    {
     "name": "stdout",
     "output_type": "stream",
     "text": [
      "hi\n",
      "hi\n",
      "hi\n",
      "hi\n"
     ]
    }
   ],
   "source": [
    "new_x = []\n",
    "new_y = []\n",
    "for i in range(0, len(x_array)):\n",
    "    if (i == 13475 or i == 14610):\n",
    "        print(\"hi\")\n",
    "    else:\n",
    "        new_x.append(x_array[i])\n",
    "        \n",
    "for i in range(0, len(y_array)):\n",
    "    if (i == 13475 or i == 14610):\n",
    "        print(\"hi\")\n",
    "    else:\n",
    "        new_y.append(y_array[i])"
   ]
  },
  {
   "cell_type": "code",
   "execution_count": 23,
   "metadata": {
    "scrolled": true
   },
   "outputs": [],
   "source": [
    "#print(new_x)\n",
    "#print(new_y)"
   ]
  },
  {
   "cell_type": "code",
   "execution_count": 24,
   "metadata": {},
   "outputs": [],
   "source": [
    "XA = np.array(list(zip(new_x, new_y)))"
   ]
  },
  {
   "cell_type": "code",
   "execution_count": 25,
   "metadata": {},
   "outputs": [
    {
     "data": {
      "text/plain": [
       "array([[-2.0878924 , 57.1253516 ],\n",
       "       [-2.0878924 , 57.1253516 ],\n",
       "       [-2.0934305 , 57.1898548 ],\n",
       "       ...,\n",
       "       [-2.09293524, 57.19762137],\n",
       "       [-2.09293524, 57.19762137],\n",
       "       [-2.1534924 , 57.0710743 ]])"
      ]
     },
     "execution_count": 25,
     "metadata": {},
     "output_type": "execute_result"
    }
   ],
   "source": [
    "XA"
   ]
  },
  {
   "cell_type": "code",
   "execution_count": 26,
   "metadata": {},
   "outputs": [
    {
     "name": "stdout",
     "output_type": "stream",
     "text": [
      "16794\n",
      "16792\n",
      "<class 'numpy.float64'>\n"
     ]
    }
   ],
   "source": [
    "print(len(X))\n",
    "print(len(XA))\n",
    "print(type(XA[0][0]))"
   ]
  },
  {
   "cell_type": "code",
   "execution_count": 27,
   "metadata": {},
   "outputs": [],
   "source": [
    "from sklearn.cluster import KMeans\n",
    "#def k_means(X1, n):\n",
    "# Number of clusters\n",
    "kmeans = KMeans(n_clusters=7)\n",
    "# Fitting the input data\n",
    "kmeans = kmeans.fit(XA)\n",
    "# Getting the cluster labels\n",
    "labels = kmeans.predict(XA)\n",
    "# Centroid values\n",
    "CA = kmeans.cluster_centers_\n",
    "    #return C"
   ]
  },
  {
   "cell_type": "code",
   "execution_count": 28,
   "metadata": {
    "scrolled": true
   },
   "outputs": [
    {
     "name": "stdout",
     "output_type": "stream",
     "text": [
      "[[-1.78752142 57.50677543]\n",
      " [-2.1515534  57.06853462]\n",
      " [-2.46253723 56.72476846]\n",
      " [-2.2150587  57.20134127]\n",
      " [-2.41831155 57.13276487]\n",
      " [-2.0847458  57.12824159]\n",
      " [-2.66283282 56.79152175]]\n"
     ]
    }
   ],
   "source": [
    "print(CA)"
   ]
  },
  {
   "cell_type": "code",
   "execution_count": 29,
   "metadata": {
    "scrolled": false
   },
   "outputs": [
    {
     "data": {
      "text/plain": [
       "<matplotlib.collections.PathCollection at 0x1ebf53ba2e8>"
      ]
     },
     "execution_count": 29,
     "metadata": {},
     "output_type": "execute_result"
    },
    {
     "data": {
      "image/png": "[encoded data removed]",
      "text/plain": [
       "<matplotlib.figure.Figure at 0x1ebf5753cf8>"
      ]
     },
     "metadata": {},
     "output_type": "display_data"
    }
   ],
   "source": [
    "x_arrayA = np.asarray(new_x)\n",
    "y_arrayA = np.asarray(new_y)\n",
    "import matplotlib.pyplot as plt\n",
    "plt.figure(figsize=(15, 15))\n",
    "plt.scatter(x_arrayA, y_arrayA, c='black')"
   ]
  },
  {
   "cell_type": "code",
   "execution_count": 30,
   "metadata": {},
   "outputs": [
    {
     "name": "stdout",
     "output_type": "stream",
     "text": [
      "<class 'numpy.ndarray'>\n",
      "[-1.78752142 57.50677543]\n",
      "[-2.1515534  57.06853462]\n"
     ]
    }
   ],
   "source": [
    "centA = np.asarray(CA)\n",
    "print(type(centA))\n",
    "print(centA[0, :])\n",
    "print(centA[1, :])\n",
    "\n",
    "C_xA = centA[:, 0]\n",
    "C_yA = centA[:, 1]"
   ]
  },
  {
   "cell_type": "code",
   "execution_count": 33,
   "metadata": {
    "scrolled": false
   },
   "outputs": [
    {
     "data": {
      "text/plain": [
       "<matplotlib.collections.PathCollection at 0x1ebf5aba198>"
      ]
     },
     "execution_count": 33,
     "metadata": {},
     "output_type": "execute_result"
    },
    {
     "data": {
      "image/png": "[encoded data removed]",
      "text/plain": [
       "<matplotlib.figure.Figure at 0x1ebf5aa7cf8>"
      ]
     },
     "metadata": {},
     "output_type": "display_data"
    }
   ],
   "source": [
    "fig = plt.figure(figsize=(15, 15))\n",
    "plt.scatter(x_arrayA, y_arrayA, c='black')\n",
    "plt.scatter(C_xA, C_yA, marker='*', s=200, c='g')"
   ]
  },
  {
   "cell_type": "code",
   "execution_count": null,
   "metadata": {},
   "outputs": [],
   "source": []
  }
 ],
 "metadata": {
  "kernelspec": {
   "display_name": "Python 3",
   "language": "python",
   "name": "python3"
  },
  "language_info": {
   "codemirror_mode": {
    "name": "ipython",
    "version": 3
   },
   "file_extension": ".py",
   "mimetype": "text/x-python",
   "name": "python",
   "nbconvert_exporter": "python",
   "pygments_lexer": "ipython3",
   "version": "3.6.4"
  }
 },
 "nbformat": 4,
 "nbformat_minor": 2
}
