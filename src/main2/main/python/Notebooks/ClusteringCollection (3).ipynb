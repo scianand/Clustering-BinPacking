{
 "cells": [
  {
   "cell_type": "code",
   "execution_count": 1,
   "metadata": {},
   "outputs": [
    {
     "data": {
      "text/html": [
       "<div>\n",
       "<style scoped>\n",
       "    .dataframe tbody tr th:only-of-type {\n",
       "        vertical-align: middle;\n",
       "    }\n",
       "\n",
       "    .dataframe tbody tr th {\n",
       "        vertical-align: top;\n",
       "    }\n",
       "\n",
       "    .dataframe thead th {\n",
       "        text-align: right;\n",
       "    }\n",
       "</style>\n",
       "<table border=\"1\" class=\"dataframe\">\n",
       "  <thead>\n",
       "    <tr style=\"text-align: right;\">\n",
       "      <th></th>\n",
       "      <th>collection_longitude</th>\n",
       "      <th>collection_latitude</th>\n",
       "      <th>collection_date</th>\n",
       "      <th>delivery_longitude</th>\n",
       "      <th>delivery_latitude</th>\n",
       "      <th>delivery_date</th>\n",
       "      <th>size</th>\n",
       "      <th>id</th>\n",
       "    </tr>\n",
       "  </thead>\n",
       "  <tbody>\n",
       "    <tr>\n",
       "      <th>0</th>\n",
       "      <td>-2.214219</td>\n",
       "      <td>57.239806</td>\n",
       "      <td>2016-10-06 11:00:00</td>\n",
       "      <td>-2.080793</td>\n",
       "      <td>57.140803</td>\n",
       "      <td>2016-10-06 13:00:00</td>\n",
       "      <td>1.000000</td>\n",
       "      <td>1006262</td>\n",
       "    </tr>\n",
       "    <tr>\n",
       "      <th>1</th>\n",
       "      <td>-2.081943</td>\n",
       "      <td>57.127896</td>\n",
       "      <td>2017-01-15 08:30:00</td>\n",
       "      <td>-2.081300</td>\n",
       "      <td>57.143050</td>\n",
       "      <td>2017-01-15 14:00:00</td>\n",
       "      <td>0.166667</td>\n",
       "      <td>1019653</td>\n",
       "    </tr>\n",
       "    <tr>\n",
       "      <th>2</th>\n",
       "      <td>-2.081943</td>\n",
       "      <td>57.127896</td>\n",
       "      <td>2017-01-15 08:30:00</td>\n",
       "      <td>-2.081300</td>\n",
       "      <td>57.143050</td>\n",
       "      <td>2017-01-15 14:00:00</td>\n",
       "      <td>0.166667</td>\n",
       "      <td>1019653</td>\n",
       "    </tr>\n",
       "    <tr>\n",
       "      <th>3</th>\n",
       "      <td>-2.081943</td>\n",
       "      <td>57.127896</td>\n",
       "      <td>2017-01-15 08:30:00</td>\n",
       "      <td>-2.081300</td>\n",
       "      <td>57.143050</td>\n",
       "      <td>2017-01-15 14:00:00</td>\n",
       "      <td>0.166667</td>\n",
       "      <td>1019653</td>\n",
       "    </tr>\n",
       "    <tr>\n",
       "      <th>4</th>\n",
       "      <td>-2.081943</td>\n",
       "      <td>57.127896</td>\n",
       "      <td>2017-01-15 08:30:00</td>\n",
       "      <td>-2.081300</td>\n",
       "      <td>57.143050</td>\n",
       "      <td>2017-01-15 14:00:00</td>\n",
       "      <td>0.166667</td>\n",
       "      <td>1019653</td>\n",
       "    </tr>\n",
       "  </tbody>\n",
       "</table>\n",
       "</div>"
      ],
      "text/plain": [
       "   collection_longitude  collection_latitude     collection_date  \\\n",
       "0             -2.214219            57.239806 2016-10-06 11:00:00   \n",
       "1             -2.081943            57.127896 2017-01-15 08:30:00   \n",
       "2             -2.081943            57.127896 2017-01-15 08:30:00   \n",
       "3             -2.081943            57.127896 2017-01-15 08:30:00   \n",
       "4             -2.081943            57.127896 2017-01-15 08:30:00   \n",
       "\n",
       "   delivery_longitude  delivery_latitude       delivery_date      size  \\\n",
       "0           -2.080793          57.140803 2016-10-06 13:00:00  1.000000   \n",
       "1           -2.081300          57.143050 2017-01-15 14:00:00  0.166667   \n",
       "2           -2.081300          57.143050 2017-01-15 14:00:00  0.166667   \n",
       "3           -2.081300          57.143050 2017-01-15 14:00:00  0.166667   \n",
       "4           -2.081300          57.143050 2017-01-15 14:00:00  0.166667   \n",
       "\n",
       "        id  \n",
       "0  1006262  \n",
       "1  1019653  \n",
       "2  1019653  \n",
       "3  1019653  \n",
       "4  1019653  "
      ]
     },
     "execution_count": 1,
     "metadata": {},
     "output_type": "execute_result"
    }
   ],
   "source": [
    "import numpy as np\n",
    "import pandas as pd\n",
    "import datetime\n",
    "import operator\n",
    "import seaborn as sns\n",
    "import matplotlib.pyplot as plt\n",
    "from sklearn.cluster import KMeans, MiniBatchKMeans\n",
    "import sys\n",
    "df = pd.read_csv('C:\\\\Ashish\\\\Clustering-Bin-Packing\\\\src\\\\main\\\\resources\\\\loads_final.csv', parse_dates=[\"collection_date\",\"delivery_date\"])\n",
    "df.head()"
   ]
  },
  {
   "cell_type": "code",
   "execution_count": 2,
   "metadata": {
    "scrolled": true
   },
   "outputs": [],
   "source": [
    "# print(len(df))\n",
    "# df = df[df.collection_longitude < -1.5]\n",
    "# df = df[df.collection_longitude > -3.5]\n",
    "# df = df[df.collection_latitude < 60]\n",
    "# df = df[df.collection_latitude > 55]\n",
    "# df = df[:100]\n",
    "# print(len(df))\n",
    "# df = df[df.collection_date > ('2015-10-06 11:00:00')]\n",
    "# print(len(df))\n",
    "X = np.array(list(zip(df['collection_longitude'], df['collection_latitude'])))\n",
    "# X"
   ]
  },
  {
   "cell_type": "code",
   "execution_count": 3,
   "metadata": {},
   "outputs": [],
   "source": [
    "def k_means(X, n):\n",
    "    # kmeans = KMeans(n_clusters=n)\n",
    "    mbk = MiniBatchKMeans(n_clusters=n, batch_size=10000)\n",
    "    # kmeans = kmeans.fit(X)\n",
    "    mbk = mbk.fit(X)\n",
    "    # labels = kmeans.predict(X)\n",
    "    labels = mbk.predict(X)\n",
    "    # C = kmeans.cluster_centers_\n",
    "    C = mbk.cluster_centers_\n",
    "    return C, mbk\n",
    "\n",
    "centr, mb = k_means(X, 21)\n",
    "# centr, mb = k_means(X, 3)\n",
    "d = {i: X[np.where(mb.labels_ == i)] for i in range(mb.n_clusters)}\n",
    "d1 = {i: np.where(mb.labels_ == i)[0] for i in range(mb.n_clusters)}\n",
    "# print(len(d[0]))\n",
    "# print(len(d[1]))\n",
    "# print(len(d[2]))\n",
    "# print(len(d1[0]))\n",
    "# print(len(d1[1]))\n",
    "# print(len(d1[2]))\n",
    "# # print(centr)\n",
    "# print(d)\n",
    "# print(d1)"
   ]
  },
  {
   "cell_type": "code",
   "execution_count": 4,
   "metadata": {
    "scrolled": true
   },
   "outputs": [],
   "source": [
    "# k = list(d.keys())\n",
    "k = list(d.keys())\n",
    "v = list(d.values())\n",
    "vids = list(d1.values())\n",
    "# print(vids)\n",
    "# print(v)\n",
    "# print(k)\n",
    "# print(len(vids[0]))"
   ]
  },
  {
   "cell_type": "code",
   "execution_count": 5,
   "metadata": {
    "scrolled": false
   },
   "outputs": [
    {
     "data": {
      "image/png": "[encoded data removed]",
      "text/plain": [
       "<matplotlib.figure.Figure at 0x1fbaee98320>"
      ]
     },
     "metadata": {},
     "output_type": "display_data"
    }
   ],
   "source": [
    "from random import randint\n",
    "def ret_col():\n",
    "    hello= [\"1\",\"2\",\"3\",\"4\",\"5\",\"6\",\"7\",\"8\",\"9\",\"a\",\"b\",\"c\",\"e\",\"d\",\"f\"]\n",
    "    v=\"#\"\n",
    "    count=0\n",
    "    for i in range(0,len(hello)):\n",
    "        v=v+str(hello[randint(0,14)])\n",
    "        count+=1\n",
    "        if(count==6):\n",
    "            #print(v)\n",
    "            break\n",
    "    return v\n",
    "\n",
    "plt1 = sns.jointplot(x='collection_longitude', y='collection_latitude', data=df, kind='reg')\n",
    "# col = ['yellow', 'green', 'red', 'blue', 'maroon', 'grey', 'black']\n",
    "# col = [\"#9b59b6\", \"#3498db\", \"#95a5a6\", \"#e74c3c\", \"#34495e\", \"#2ecc71\", \"#0000ff\", 'yellow', 'green', 'red', 'blue', 'maroon', 'grey', 'black']\n",
    "for i in range(0, len(v)):\n",
    "    plt1.ax_joint.scatter(v[i][:, 0], v[i][:, 1], color = ret_col())\n",
    "plt.scatter(centr[:, 0], centr[:, 1], marker='*', s=200, c='aqua')\n",
    "plt.savefig('C:\\\\Ashish\\\\Clustering-Bin-Packing\\\\src\\\\main\\\\output\\\\collection_cluster.jpg')"
   ]
  },
  {
   "cell_type": "code",
   "execution_count": 6,
   "metadata": {
    "scrolled": true
   },
   "outputs": [],
   "source": [
    "date_time = []\n",
    "for i in range(0, len(vids)):\n",
    "    date_time1 = {}\n",
    "    for j in range(0, len(vids[i])):\n",
    "        #date_time1.update({df['collection_date'].iloc[vids[i][j]]: [vids[i][j], df['delivery_date'].iloc[vids[i][j]], df['size'].iloc[vids[i][j]]]})\n",
    "        date_time1.update({vids[i][j]: df['collection_date'].iloc[vids[i][j]]})\n",
    "        #date_time1.append(df['collection_date'].iloc[vids[i][j]])\n",
    "    date_time.append(date_time1)\n",
    "date_time_sorted = []\n",
    "for diction in date_time:\n",
    "    sorted_x = sorted(diction.items(), key=operator.itemgetter(1))\n",
    "    date_time_sorted.append(sorted_x)\n",
    "# date_time_sorted\n",
    "# date_time"
   ]
  },
  {
   "cell_type": "code",
   "execution_count": 7,
   "metadata": {
    "scrolled": false
   },
   "outputs": [
    {
     "name": "stdout",
     "output_type": "stream",
     "text": [
      "1779\n"
     ]
    },
    {
     "data": {
      "text/plain": [
       "21"
      ]
     },
     "execution_count": 7,
     "metadata": {},
     "output_type": "execute_result"
    }
   ],
   "source": [
    "x = len(vids)-1\n",
    "print(len(vids[x])-1)\n",
    "date_time_sorted[x][len(date_time_sorted[x])-1]\n",
    "len(date_time_sorted)"
   ]
  },
  {
   "cell_type": "code",
   "execution_count": 8,
   "metadata": {
    "scrolled": false
   },
   "outputs": [
    {
     "name": "stdout",
     "output_type": "stream",
     "text": [
      "97561\n"
     ]
    }
   ],
   "source": [
    "l = []\n",
    "for i in date_time_sorted:\n",
    "    d = {}\n",
    "    for j in i:\n",
    "        key = j[1]\n",
    "        d.setdefault(key, []).append(j[0])\n",
    "    l.append(d)\n",
    "# print(l)\n",
    "ctr = 0\n",
    "for i in range(len(l)):\n",
    "    #print('new location cluster')\n",
    "    ctr += 1\n",
    "    for j in l[i]:\n",
    "        #print('new time cluster')\n",
    "        ctr += 1\n",
    "        #print(l[i][j])\n",
    "        for k in range(len(l[i][j])):\n",
    "            ctr += 1\n",
    "#             print(l[i][j][k])\n",
    "#             pass\n",
    "print(ctr)"
   ]
  },
  {
   "cell_type": "code",
   "execution_count": 9,
   "metadata": {},
   "outputs": [],
   "source": [
    "li = []\n",
    "for i in l:\n",
    "    sorted_i = sorted(i.items(), key=operator.itemgetter(0))\n",
    "    li.append(sorted_i)\n",
    "# li"
   ]
  },
  {
   "cell_type": "code",
   "execution_count": 10,
   "metadata": {},
   "outputs": [
    {
     "name": "stdout",
     "output_type": "stream",
     "text": [
      "67\n"
     ]
    }
   ],
   "source": [
    "from __future__ import division\n",
    "\n",
    "def checkClass(k, a):\n",
    "    for i in range(k, 1, -1):\n",
    "        if (a > (1.0/i) and a <= (1.0/(i-1))):\n",
    "            clas = (i-1)\n",
    "            break\n",
    "        else:\n",
    "            clas = k\n",
    "    return (clas-1)\n",
    "\n",
    "def nextFit(weight, n, c):\n",
    "    res = 1\n",
    "    bin_rem = c\n",
    "    for i in range(0, n):\n",
    "        if (weight[i] > bin_rem):\n",
    "            res = res + 1\n",
    "            bin_rem = c - weight[i]\n",
    "        else:\n",
    "            bin_rem = bin_rem - weight[i]\n",
    "    return res\n",
    "\n",
    "def harmonic(items_normal, cap, k):\n",
    "    items = [i/cap for i in items_normal]\n",
    "    bins_k = [] #items divided n classes, list of list\n",
    "    res_k = [] #bins required in every class\n",
    "    for i in range(0, k):\n",
    "        classes = [] #single list\n",
    "        bins_k.append(classes)\n",
    "    for item in items:\n",
    "        clas = checkClass(k, item)\n",
    "        bins_k[clas].append(item)\n",
    "    for classes in bins_k:\n",
    "        if (len(classes) != 0):\n",
    "            bins = nextFit(classes, len(classes), 1)\n",
    "        else:\n",
    "            bins = 0\n",
    "        res_k.append(bins)\n",
    "        #print(classes)\n",
    "    res = 0\n",
    "    #print(bins_k)\n",
    "    for i in bins_k:\n",
    "        pass\n",
    "        #print(len(i))\n",
    "    for r in res_k:\n",
    "        res = res + r\n",
    "    #print(res_k)\n",
    "    return res\n",
    "\n",
    "# def main():\n",
    "#     it = [42,69,67,57,93,90,38,36,45,42,33,79,27,57,44,84,86,92,46,38,85,33,82,73,49,70,59,23,57,72,74,69,33,42,28,46,30,64,29,74,41,49,55,98,80,32,25,38,82,30,35,39,57,84,62,50,55,27,30,36,20,78,47,26,45,41,58,98,91,96,73,84,37,93,91,43,73,85,81,79,71,80,76,83,41,78,70,23,42,87,43,84,60,55,49,78,73,62,36,44,94,69,32,96,70,84,58,78,25,80,58,66,83,24,98,60,42,43,43,39]\n",
    "#     c = 150\n",
    "#     bins_required = harmonic(it, c, 4)\n",
    "#     print(bins_required)\n",
    "    \n",
    "# main()"
   ]
  },
  {
   "cell_type": "code",
   "execution_count": 11,
   "metadata": {
    "scrolled": true
   },
   "outputs": [
    {
     "name": "stdout",
     "output_type": "stream",
     "text": [
      "53506\n"
     ]
    }
   ],
   "source": [
    "d = []\n",
    "for i in li:\n",
    "    d1 = []\n",
    "    for j in i:\n",
    "        temp = j[1]\n",
    "        for k in j[1]:\n",
    "            d1.append(df['size'].iloc[k])\n",
    "    d.append(d1)\n",
    "# d\n",
    "bins = 0\n",
    "for i in d:\n",
    "#     print(i)\n",
    "    bins += harmonic(i, 1, 4)\n",
    "print(bins)"
   ]
  },
  {
   "cell_type": "code",
   "execution_count": null,
   "metadata": {},
   "outputs": [],
   "source": []
  }
 ],
 "metadata": {
  "kernelspec": {
   "display_name": "Python 3",
   "language": "python",
   "name": "python3"
  },
  "language_info": {
   "codemirror_mode": {
    "name": "ipython",
    "version": 3
   },
   "file_extension": ".py",
   "mimetype": "text/x-python",
   "name": "python",
   "nbconvert_exporter": "python",
   "pygments_lexer": "ipython3",
   "version": "3.6.4"
  }
 },
 "nbformat": 4,
 "nbformat_minor": 2
}
