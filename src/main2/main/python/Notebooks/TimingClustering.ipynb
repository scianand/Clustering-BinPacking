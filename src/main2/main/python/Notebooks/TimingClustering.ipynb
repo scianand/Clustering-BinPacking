{
 "cells": [
  {
   "cell_type": "code",
   "execution_count": 88,
   "metadata": {},
   "outputs": [
    {
     "data": {
      "text/html": [
       "<div>\n",
       "<style scoped>\n",
       "    .dataframe tbody tr th:only-of-type {\n",
       "        vertical-align: middle;\n",
       "    }\n",
       "\n",
       "    .dataframe tbody tr th {\n",
       "        vertical-align: top;\n",
       "    }\n",
       "\n",
       "    .dataframe thead th {\n",
       "        text-align: right;\n",
       "    }\n",
       "</style>\n",
       "<table border=\"1\" class=\"dataframe\">\n",
       "  <thead>\n",
       "    <tr style=\"text-align: right;\">\n",
       "      <th></th>\n",
       "      <th>collection_longitude</th>\n",
       "      <th>collection_latitude</th>\n",
       "      <th>collection_date</th>\n",
       "      <th>delivery_longitude</th>\n",
       "      <th>delivery_latitude</th>\n",
       "      <th>delivery_date</th>\n",
       "      <th>size</th>\n",
       "      <th>id</th>\n",
       "    </tr>\n",
       "  </thead>\n",
       "  <tbody>\n",
       "    <tr>\n",
       "      <th>0</th>\n",
       "      <td>-2.214219</td>\n",
       "      <td>57.239806</td>\n",
       "      <td>2016-10-06 11:00:00</td>\n",
       "      <td>-2.080793</td>\n",
       "      <td>57.140803</td>\n",
       "      <td>2016-10-06 13:00:00</td>\n",
       "      <td>1.000000</td>\n",
       "      <td>1006262</td>\n",
       "    </tr>\n",
       "    <tr>\n",
       "      <th>1</th>\n",
       "      <td>-2.081943</td>\n",
       "      <td>57.127896</td>\n",
       "      <td>2017-01-15 08:30:00</td>\n",
       "      <td>-2.081300</td>\n",
       "      <td>57.143050</td>\n",
       "      <td>2017-01-15 14:00:00</td>\n",
       "      <td>0.166667</td>\n",
       "      <td>1019653</td>\n",
       "    </tr>\n",
       "    <tr>\n",
       "      <th>2</th>\n",
       "      <td>-2.081943</td>\n",
       "      <td>57.127896</td>\n",
       "      <td>2017-01-15 08:30:00</td>\n",
       "      <td>-2.081300</td>\n",
       "      <td>57.143050</td>\n",
       "      <td>2017-01-15 14:00:00</td>\n",
       "      <td>0.166667</td>\n",
       "      <td>1019653</td>\n",
       "    </tr>\n",
       "    <tr>\n",
       "      <th>3</th>\n",
       "      <td>-2.081943</td>\n",
       "      <td>57.127896</td>\n",
       "      <td>2017-01-15 08:30:00</td>\n",
       "      <td>-2.081300</td>\n",
       "      <td>57.143050</td>\n",
       "      <td>2017-01-15 14:00:00</td>\n",
       "      <td>0.166667</td>\n",
       "      <td>1019653</td>\n",
       "    </tr>\n",
       "    <tr>\n",
       "      <th>4</th>\n",
       "      <td>-2.081943</td>\n",
       "      <td>57.127896</td>\n",
       "      <td>2017-01-15 08:30:00</td>\n",
       "      <td>-2.081300</td>\n",
       "      <td>57.143050</td>\n",
       "      <td>2017-01-15 14:00:00</td>\n",
       "      <td>0.166667</td>\n",
       "      <td>1019653</td>\n",
       "    </tr>\n",
       "    <tr>\n",
       "      <th>5</th>\n",
       "      <td>-2.081943</td>\n",
       "      <td>57.127896</td>\n",
       "      <td>2017-01-15 08:30:00</td>\n",
       "      <td>-2.081300</td>\n",
       "      <td>57.143050</td>\n",
       "      <td>2017-01-15 14:00:00</td>\n",
       "      <td>0.166667</td>\n",
       "      <td>1019653</td>\n",
       "    </tr>\n",
       "    <tr>\n",
       "      <th>6</th>\n",
       "      <td>-2.081943</td>\n",
       "      <td>57.127896</td>\n",
       "      <td>2017-01-15 08:30:00</td>\n",
       "      <td>-2.081300</td>\n",
       "      <td>57.143050</td>\n",
       "      <td>2017-01-15 14:00:00</td>\n",
       "      <td>0.166667</td>\n",
       "      <td>1019653</td>\n",
       "    </tr>\n",
       "    <tr>\n",
       "      <th>7</th>\n",
       "      <td>-2.068563</td>\n",
       "      <td>57.139872</td>\n",
       "      <td>2016-12-29 14:00:00</td>\n",
       "      <td>-2.072161</td>\n",
       "      <td>57.142733</td>\n",
       "      <td>2016-12-29 16:00:00</td>\n",
       "      <td>1.000000</td>\n",
       "      <td>1017754</td>\n",
       "    </tr>\n",
       "    <tr>\n",
       "      <th>8</th>\n",
       "      <td>-2.417496</td>\n",
       "      <td>57.114156</td>\n",
       "      <td>2016-12-28 11:30:00</td>\n",
       "      <td>-2.081300</td>\n",
       "      <td>57.143050</td>\n",
       "      <td>2016-12-28 14:00:00</td>\n",
       "      <td>0.333333</td>\n",
       "      <td>1017570</td>\n",
       "    </tr>\n",
       "    <tr>\n",
       "      <th>9</th>\n",
       "      <td>-2.417496</td>\n",
       "      <td>57.114156</td>\n",
       "      <td>2016-12-28 11:30:00</td>\n",
       "      <td>-2.081300</td>\n",
       "      <td>57.143050</td>\n",
       "      <td>2016-12-28 14:00:00</td>\n",
       "      <td>0.333333</td>\n",
       "      <td>1017570</td>\n",
       "    </tr>\n",
       "  </tbody>\n",
       "</table>\n",
       "</div>"
      ],
      "text/plain": [
       "   collection_longitude  collection_latitude     collection_date  \\\n",
       "0             -2.214219            57.239806 2016-10-06 11:00:00   \n",
       "1             -2.081943            57.127896 2017-01-15 08:30:00   \n",
       "2             -2.081943            57.127896 2017-01-15 08:30:00   \n",
       "3             -2.081943            57.127896 2017-01-15 08:30:00   \n",
       "4             -2.081943            57.127896 2017-01-15 08:30:00   \n",
       "5             -2.081943            57.127896 2017-01-15 08:30:00   \n",
       "6             -2.081943            57.127896 2017-01-15 08:30:00   \n",
       "7             -2.068563            57.139872 2016-12-29 14:00:00   \n",
       "8             -2.417496            57.114156 2016-12-28 11:30:00   \n",
       "9             -2.417496            57.114156 2016-12-28 11:30:00   \n",
       "\n",
       "   delivery_longitude  delivery_latitude       delivery_date      size  \\\n",
       "0           -2.080793          57.140803 2016-10-06 13:00:00  1.000000   \n",
       "1           -2.081300          57.143050 2017-01-15 14:00:00  0.166667   \n",
       "2           -2.081300          57.143050 2017-01-15 14:00:00  0.166667   \n",
       "3           -2.081300          57.143050 2017-01-15 14:00:00  0.166667   \n",
       "4           -2.081300          57.143050 2017-01-15 14:00:00  0.166667   \n",
       "5           -2.081300          57.143050 2017-01-15 14:00:00  0.166667   \n",
       "6           -2.081300          57.143050 2017-01-15 14:00:00  0.166667   \n",
       "7           -2.072161          57.142733 2016-12-29 16:00:00  1.000000   \n",
       "8           -2.081300          57.143050 2016-12-28 14:00:00  0.333333   \n",
       "9           -2.081300          57.143050 2016-12-28 14:00:00  0.333333   \n",
       "\n",
       "        id  \n",
       "0  1006262  \n",
       "1  1019653  \n",
       "2  1019653  \n",
       "3  1019653  \n",
       "4  1019653  \n",
       "5  1019653  \n",
       "6  1019653  \n",
       "7  1017754  \n",
       "8  1017570  \n",
       "9  1017570  "
      ]
     },
     "execution_count": 88,
     "metadata": {},
     "output_type": "execute_result"
    }
   ],
   "source": [
    "import numpy as np\n",
    "import pandas as pd\n",
    "import seaborn as sns\n",
    "from matplotlib import pyplot as plt\n",
    "%matplotlib inline\n",
    "import datetime\n",
    "df = pd.read_csv('C:\\\\Ashish\\\\Clustering-Bin-Packing\\\\src\\\\main\\\\resources\\\\loads.csv', parse_dates=[\"collection_date\",\"delivery_date\"])\n",
    "df.head(10)"
   ]
  },
  {
   "cell_type": "code",
   "execution_count": 89,
   "metadata": {
    "scrolled": true
   },
   "outputs": [],
   "source": [
    "# sns.lmplot(x='collection_date', y='size', data=df)\n",
    "\n",
    "# df1 = df1[df1.collection_date > ('2015-10-06 11:00:00')]\n",
    "# df1['collection_date'][0]\n",
    "# df1[['collection_date','size']].set_index('collection_date').plot()"
   ]
  },
  {
   "cell_type": "code",
   "execution_count": 90,
   "metadata": {},
   "outputs": [
    {
     "data": {
      "text/html": [
       "<div>\n",
       "<style scoped>\n",
       "    .dataframe tbody tr th:only-of-type {\n",
       "        vertical-align: middle;\n",
       "    }\n",
       "\n",
       "    .dataframe tbody tr th {\n",
       "        vertical-align: top;\n",
       "    }\n",
       "\n",
       "    .dataframe thead th {\n",
       "        text-align: right;\n",
       "    }\n",
       "</style>\n",
       "<table border=\"1\" class=\"dataframe\">\n",
       "  <thead>\n",
       "    <tr style=\"text-align: right;\">\n",
       "      <th></th>\n",
       "      <th>collection_longitude</th>\n",
       "      <th>collection_latitude</th>\n",
       "      <th>collection_date</th>\n",
       "      <th>delivery_longitude</th>\n",
       "      <th>delivery_latitude</th>\n",
       "      <th>delivery_date</th>\n",
       "      <th>size</th>\n",
       "      <th>id</th>\n",
       "    </tr>\n",
       "  </thead>\n",
       "  <tbody>\n",
       "    <tr>\n",
       "      <th>1257</th>\n",
       "      <td>-2.082431</td>\n",
       "      <td>57.110116</td>\n",
       "      <td>1919-04-04 09:30:00</td>\n",
       "      <td>-2.090433</td>\n",
       "      <td>57.144523</td>\n",
       "      <td>1919-04-04 11:00:00</td>\n",
       "      <td>1.0</td>\n",
       "      <td>1095060</td>\n",
       "    </tr>\n",
       "  </tbody>\n",
       "</table>\n",
       "</div>"
      ],
      "text/plain": [
       "      collection_longitude  collection_latitude     collection_date  \\\n",
       "1257             -2.082431            57.110116 1919-04-04 09:30:00   \n",
       "\n",
       "      delivery_longitude  delivery_latitude       delivery_date  size       id  \n",
       "1257           -2.090433          57.144523 1919-04-04 11:00:00   1.0  1095060  "
      ]
     },
     "execution_count": 90,
     "metadata": {},
     "output_type": "execute_result"
    }
   ],
   "source": [
    "df.loc[df['collection_date'].dt.year <= 2009]\n",
    "# type(df['collection_longitude'])"
   ]
  },
  {
   "cell_type": "code",
   "execution_count": 92,
   "metadata": {
    "scrolled": true
   },
   "outputs": [
    {
     "name": "stdout",
     "output_type": "stream",
     "text": [
      "2000-03-02 00:00:00\n"
     ]
    }
   ],
   "source": [
    "d1 = datetime.datetime(2000, 3, 2)\n",
    "print(d1)"
   ]
  },
  {
   "cell_type": "code",
   "execution_count": 93,
   "metadata": {},
   "outputs": [
    {
     "data": {
      "text/plain": [
       "[<matplotlib.lines.Line2D at 0x23ce7edb668>]"
      ]
     },
     "execution_count": 93,
     "metadata": {},
     "output_type": "execute_result"
    },
    {
     "data": {
      "image/png": "[encoded data removed]",
      "text/plain": [
       "<matplotlib.figure.Figure at 0x23cea618898>"
      ]
     },
     "metadata": {},
     "output_type": "display_data"
    }
   ],
   "source": [
    "fig, ax = plt.subplots()\n",
    "df = df[df.collection_date > ('2015-10-06 11:00:00')]\n",
    "plt.plot_date(df['collection_date'], df['size'])"
   ]
  },
  {
   "cell_type": "code",
   "execution_count": 94,
   "metadata": {},
   "outputs": [
    {
     "data": {
      "text/html": [
       "<div>\n",
       "<style scoped>\n",
       "    .dataframe tbody tr th:only-of-type {\n",
       "        vertical-align: middle;\n",
       "    }\n",
       "\n",
       "    .dataframe tbody tr th {\n",
       "        vertical-align: top;\n",
       "    }\n",
       "\n",
       "    .dataframe thead th {\n",
       "        text-align: right;\n",
       "    }\n",
       "</style>\n",
       "<table border=\"1\" class=\"dataframe\">\n",
       "  <thead>\n",
       "    <tr style=\"text-align: right;\">\n",
       "      <th></th>\n",
       "      <th>collection_longitude</th>\n",
       "      <th>collection_latitude</th>\n",
       "      <th>collection_date</th>\n",
       "      <th>delivery_longitude</th>\n",
       "      <th>delivery_latitude</th>\n",
       "      <th>delivery_date</th>\n",
       "      <th>size</th>\n",
       "      <th>id</th>\n",
       "    </tr>\n",
       "  </thead>\n",
       "  <tbody>\n",
       "  </tbody>\n",
       "</table>\n",
       "</div>"
      ],
      "text/plain": [
       "Empty DataFrame\n",
       "Columns: [collection_longitude, collection_latitude, collection_date, delivery_longitude, delivery_latitude, delivery_date, size, id]\n",
       "Index: []"
      ]
     },
     "execution_count": 94,
     "metadata": {},
     "output_type": "execute_result"
    }
   ],
   "source": [
    "df.loc[df['collection_date'].dt.year <= 2009]"
   ]
  },
  {
   "cell_type": "code",
   "execution_count": 102,
   "metadata": {
    "scrolled": true
   },
   "outputs": [
    {
     "name": "stdout",
     "output_type": "stream",
     "text": [
      "2017-07-25 10:31:03.007322\n"
     ]
    },
    {
     "name": "stderr",
     "output_type": "stream",
     "text": [
      "C:\\tools\\Anaconda3\\lib\\site-packages\\IPython\\core\\interactiveshell.py:2910: UserWarning: Discarding nonzero nanoseconds in conversion\n",
      "  exec(code_obj, self.user_global_ns, self.user_ns)\n"
     ]
    }
   ],
   "source": [
    "dob = df['collection_date']\n",
    "m = dob.min()\n",
    "me = (m + (dob - m).mean()).to_pydatetime()\n",
    "print(me)"
   ]
  },
  {
   "cell_type": "code",
   "execution_count": null,
   "metadata": {},
   "outputs": [],
   "source": []
  }
 ],
 "metadata": {
  "kernelspec": {
   "display_name": "Python 3",
   "language": "python",
   "name": "python3"
  },
  "language_info": {
   "codemirror_mode": {
    "name": "ipython",
    "version": 3
   },
   "file_extension": ".py",
   "mimetype": "text/x-python",
   "name": "python",
   "nbconvert_exporter": "python",
   "pygments_lexer": "ipython3",
   "version": "3.6.4"
  }
 },
 "nbformat": 4,
 "nbformat_minor": 2
}
